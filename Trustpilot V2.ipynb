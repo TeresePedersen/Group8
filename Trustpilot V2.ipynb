{
 "cells": [
  {
   "cell_type": "code",
   "execution_count": 1,
   "metadata": {},
   "outputs": [],
   "source": [
    "import scraping_class\n",
    "logfile = 'log.csv'## name your log file.\n",
    "connector = scraping_class.Connector(logfile)\n",
    "\n",
    "from tqdm import tqdm_notebook as tqdm # Module for tracking progress. conda install -c conda-forge tqdm\n",
    "import json\n",
    "import pandas as pd\n",
    "import requests\n",
    "from bs4 import BeautifulSoup\n",
    "import re\n",
    "\n",
    "starting_point= 'https://dk.trustpilot.com/review/'\n",
    "lst = ['saxo.com', 'www.elgiganten.dk', 'www.nemlig.com', 'www.bilka.dk', 'shopping.coop.dk', 'www.dsb.dk', 'www.wupti.com', 'www.boozt.com', 'sweetdeal.dk', 'www.just-eat.dk']\n",
    "\n",
    "domainUrl = 'https://dk.trustpilot.com/review/'\n",
    "#Loop der løber alle hjemmesiderne igennem\n",
    "for site in lst:\n",
    "    siteUrl = domainUrl + site\n",
    "    for i in range(50): #Hvor meget data skal vi bruge??\n",
    "        response = requests.get(siteUrl + \"?page=\" + str(i)) #loop over husnummer\n",
    "        if response.ok: #HTTP kode = 200, hvis siden eksisterer\n",
    "            html = response.text\n",
    "\n",
    "            soup = BeautifulSoup(html,\"lxml\") #Henter frar response og finder article (tabeller), lxml fjerner den røde advarsel\n",
    "            reviews = soup.find_all(\"article\", class_=\"review\") #Finder området hvor data er, \"article\", med underc´klassen \"review\"\n",
    "            \n",
    "            for rev in reviews:\n",
    "                for article in reviews:\n",
    "                    div = article.find(\"div\", class_=\"star-rating star-rating--medium\") #finder sjterne kommentar\n",
    "                    star = div.find(\"img\") #fjerner overflødelig tekst\n",
    "                    starText = star.get(\"alt\") #Fjerner mere teskt, så kuin stjerner er tilbage\n",
    "                    fullPersonReview = site.upper() + \"\\nNavn: \" + rev.find(class_=\"consumer-information__name\").text.strip() + \"\\nAnmeldelse: \" + rev.find(class_=\"review-content__text\").text.strip() + \"\\nStjerner: \" + starText + \"\\n\"\n",
    "                    print(fullPersonReview)\n",
    "        else:\n",
    "            print('error: site not available')"
   ]
  },
  {
   "cell_type": "code",
   "execution_count": null,
   "metadata": {},
   "outputs": [],
   "source": []
  }
 ],
 "metadata": {
  "kernelspec": {
   "display_name": "Python 3",
   "language": "python",
   "name": "python3"
  },
  "language_info": {
   "codemirror_mode": {
    "name": "ipython",
    "version": 3
   },
   "file_extension": ".py",
   "mimetype": "text/x-python",
   "name": "python",
   "nbconvert_exporter": "python",
   "pygments_lexer": "ipython3",
   "version": "3.6.4"
  }
 },
 "nbformat": 4,
 "nbformat_minor": 2
}
