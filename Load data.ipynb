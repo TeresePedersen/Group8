{
 "cells": [
  {
   "cell_type": "code",
   "execution_count": 3,
   "metadata": {},
   "outputs": [
    {
     "data": {
      "text/html": [
       "<div>\n",
       "<style scoped>\n",
       "    .dataframe tbody tr th:only-of-type {\n",
       "        vertical-align: middle;\n",
       "    }\n",
       "\n",
       "    .dataframe tbody tr th {\n",
       "        vertical-align: top;\n",
       "    }\n",
       "\n",
       "    .dataframe thead th {\n",
       "        text-align: right;\n",
       "    }\n",
       "</style>\n",
       "<table border=\"1\" class=\"dataframe\">\n",
       "  <thead>\n",
       "    <tr style=\"text-align: right;\">\n",
       "      <th></th>\n",
       "      <th>Unnamed: 0</th>\n",
       "      <th>website</th>\n",
       "      <th>name</th>\n",
       "      <th>review</th>\n",
       "      <th>rating</th>\n",
       "    </tr>\n",
       "  </thead>\n",
       "  <tbody>\n",
       "    <tr>\n",
       "      <th>0</th>\n",
       "      <td>0</td>\n",
       "      <td>SAXO.COM</td>\n",
       "      <td>Rasmus</td>\n",
       "      <td>Uproblematisk og hurtig levering.</td>\n",
       "      <td>5 stjerner: Fremragende</td>\n",
       "    </tr>\n",
       "    <tr>\n",
       "      <th>1</th>\n",
       "      <td>1</td>\n",
       "      <td>SAXO.COM</td>\n",
       "      <td>Dan Jensen</td>\n",
       "      <td>God service...</td>\n",
       "      <td>5 stjerner: Fremragende</td>\n",
       "    </tr>\n",
       "    <tr>\n",
       "      <th>2</th>\n",
       "      <td>2</td>\n",
       "      <td>SAXO.COM</td>\n",
       "      <td>Rikke</td>\n",
       "      <td>Super fint. Hurtig levering</td>\n",
       "      <td>5 stjerner: Fremragende</td>\n",
       "    </tr>\n",
       "    <tr>\n",
       "      <th>3</th>\n",
       "      <td>3</td>\n",
       "      <td>SAXO.COM</td>\n",
       "      <td>jens haase</td>\n",
       "      <td>spændende plot</td>\n",
       "      <td>5 stjerner: Fremragende</td>\n",
       "    </tr>\n",
       "    <tr>\n",
       "      <th>4</th>\n",
       "      <td>4</td>\n",
       "      <td>SAXO.COM</td>\n",
       "      <td>Winnie Ankerdal</td>\n",
       "      <td>Hurtig sikker betjening</td>\n",
       "      <td>5 stjerner: Fremragende</td>\n",
       "    </tr>\n",
       "  </tbody>\n",
       "</table>\n",
       "</div>"
      ],
      "text/plain": [
       "   Unnamed: 0   website             name                             review  \\\n",
       "0           0  SAXO.COM           Rasmus  Uproblematisk og hurtig levering.   \n",
       "1           1  SAXO.COM       Dan Jensen                     God service...   \n",
       "2           2  SAXO.COM            Rikke        Super fint. Hurtig levering   \n",
       "3           3  SAXO.COM       jens haase                     spændende plot   \n",
       "4           4  SAXO.COM  Winnie Ankerdal            Hurtig sikker betjening   \n",
       "\n",
       "                    rating  \n",
       "0  5 stjerner: Fremragende  \n",
       "1  5 stjerner: Fremragende  \n",
       "2  5 stjerner: Fremragende  \n",
       "3  5 stjerner: Fremragende  \n",
       "4  5 stjerner: Fremragende  "
      ]
     },
     "execution_count": 3,
     "metadata": {},
     "output_type": "execute_result"
    }
   ],
   "source": [
    "from tqdm import tqdm_notebook as tqdm # Module for tracking progress. conda install -c conda-forge tqdm\n",
    "import json\n",
    "import pandas as pd\n",
    "import requests\n",
    "from bs4 import BeautifulSoup\n",
    "import re\n",
    "import json\n",
    "\n",
    "df = pd.read_csv (r'C:\\Users\\Saxen\\Documents\\Polit\\Social Data Science\\Slides\\Trustpilot\\Trustpilot_data.csv')\n",
    "\n",
    "df.head()"
   ]
  },
  {
   "cell_type": "code",
   "execution_count": 4,
   "metadata": {},
   "outputs": [],
   "source": [
    "df['rating_n'] = df['rating'].str.extract('(\\d+)')"
   ]
  },
  {
   "cell_type": "code",
   "execution_count": 5,
   "metadata": {},
   "outputs": [
    {
     "data": {
      "text/html": [
       "<div>\n",
       "<style scoped>\n",
       "    .dataframe tbody tr th:only-of-type {\n",
       "        vertical-align: middle;\n",
       "    }\n",
       "\n",
       "    .dataframe tbody tr th {\n",
       "        vertical-align: top;\n",
       "    }\n",
       "\n",
       "    .dataframe thead th {\n",
       "        text-align: right;\n",
       "    }\n",
       "</style>\n",
       "<table border=\"1\" class=\"dataframe\">\n",
       "  <thead>\n",
       "    <tr style=\"text-align: right;\">\n",
       "      <th></th>\n",
       "      <th>website</th>\n",
       "      <th>first_name</th>\n",
       "      <th>surname</th>\n",
       "      <th>name</th>\n",
       "      <th>review</th>\n",
       "      <th>rating</th>\n",
       "      <th>rating_n</th>\n",
       "    </tr>\n",
       "  </thead>\n",
       "  <tbody>\n",
       "    <tr>\n",
       "      <th>0</th>\n",
       "      <td>SAXO.COM</td>\n",
       "      <td>Rasmus</td>\n",
       "      <td>None</td>\n",
       "      <td>Rasmus</td>\n",
       "      <td>Uproblematisk og hurtig levering.</td>\n",
       "      <td>5 stjerner: Fremragende</td>\n",
       "      <td>5</td>\n",
       "    </tr>\n",
       "    <tr>\n",
       "      <th>1</th>\n",
       "      <td>SAXO.COM</td>\n",
       "      <td>Dan</td>\n",
       "      <td>Jensen</td>\n",
       "      <td>Dan Jensen</td>\n",
       "      <td>God service...</td>\n",
       "      <td>5 stjerner: Fremragende</td>\n",
       "      <td>5</td>\n",
       "    </tr>\n",
       "    <tr>\n",
       "      <th>2</th>\n",
       "      <td>SAXO.COM</td>\n",
       "      <td>Rikke</td>\n",
       "      <td>None</td>\n",
       "      <td>Rikke</td>\n",
       "      <td>Super fint. Hurtig levering</td>\n",
       "      <td>5 stjerner: Fremragende</td>\n",
       "      <td>5</td>\n",
       "    </tr>\n",
       "    <tr>\n",
       "      <th>3</th>\n",
       "      <td>SAXO.COM</td>\n",
       "      <td>jens</td>\n",
       "      <td>haase</td>\n",
       "      <td>jens haase</td>\n",
       "      <td>spændende plot</td>\n",
       "      <td>5 stjerner: Fremragende</td>\n",
       "      <td>5</td>\n",
       "    </tr>\n",
       "    <tr>\n",
       "      <th>4</th>\n",
       "      <td>SAXO.COM</td>\n",
       "      <td>Winnie</td>\n",
       "      <td>Ankerdal</td>\n",
       "      <td>Winnie Ankerdal</td>\n",
       "      <td>Hurtig sikker betjening</td>\n",
       "      <td>5 stjerner: Fremragende</td>\n",
       "      <td>5</td>\n",
       "    </tr>\n",
       "  </tbody>\n",
       "</table>\n",
       "</div>"
      ],
      "text/plain": [
       "    website first_name   surname             name  \\\n",
       "0  SAXO.COM     Rasmus      None           Rasmus   \n",
       "1  SAXO.COM        Dan    Jensen       Dan Jensen   \n",
       "2  SAXO.COM      Rikke      None            Rikke   \n",
       "3  SAXO.COM       jens     haase       jens haase   \n",
       "4  SAXO.COM     Winnie  Ankerdal  Winnie Ankerdal   \n",
       "\n",
       "                              review                   rating rating_n  \n",
       "0  Uproblematisk og hurtig levering.  5 stjerner: Fremragende        5  \n",
       "1                     God service...  5 stjerner: Fremragende        5  \n",
       "2        Super fint. Hurtig levering  5 stjerner: Fremragende        5  \n",
       "3                     spændende plot  5 stjerner: Fremragende        5  \n",
       "4            Hurtig sikker betjening  5 stjerner: Fremragende        5  "
      ]
     },
     "execution_count": 5,
     "metadata": {},
     "output_type": "execute_result"
    }
   ],
   "source": [
    "df_cc = pd.DataFrame(df.name.str.split(' ',1).tolist(), columns = ['first_name','surname'])\n",
    "\n",
    "df['first_name'] = df_cc['first_name']\n",
    "df['surname'] = df_cc['surname']\n",
    "df.head()\n",
    "column_names =['website', 'first_name', 'surname', 'name', 'review', 'rating', 'rating_n']\n",
    "df=df[column_names]\n",
    "df.head()"
   ]
  },
  {
   "cell_type": "code",
   "execution_count": 6,
   "metadata": {},
   "outputs": [
    {
     "name": "stderr",
     "output_type": "stream",
     "text": [
      "C:\\Users\\Saxen\\Anaconda3\\lib\\site-packages\\ipykernel_launcher.py:1: SettingWithCopyWarning: \n",
      "A value is trying to be set on a copy of a slice from a DataFrame.\n",
      "Try using .loc[row_indexer,col_indexer] = value instead\n",
      "\n",
      "See the caveats in the documentation: http://pandas.pydata.org/pandas-docs/stable/user_guide/indexing.html#returning-a-view-versus-a-copy\n",
      "  \"\"\"Entry point for launching an IPython kernel.\n"
     ]
    }
   ],
   "source": [
    "df['first_name'] = df['first_name'].str.lower()"
   ]
  },
  {
   "cell_type": "code",
   "execution_count": 7,
   "metadata": {},
   "outputs": [],
   "source": [
    "df_names = pd.read_excel (r'/Users/Saxen/Documents/Polit/Social Data Science/Slides/Trustpilot/Navne.xlsx')\n",
    "# d for dreng, p for pige og u for unisex\n"
   ]
  },
  {
   "cell_type": "code",
   "execution_count": 8,
   "metadata": {},
   "outputs": [],
   "source": [
    "df_names['first_name'] = df_names['first_name'].str.lower()"
   ]
  },
  {
   "cell_type": "code",
   "execution_count": 9,
   "metadata": {},
   "outputs": [],
   "source": [
    "df_names2 = pd.merge(df, df_names, on='first_name', how='left')"
   ]
  },
  {
   "cell_type": "code",
   "execution_count": 10,
   "metadata": {},
   "outputs": [
    {
     "name": "stdout",
     "output_type": "stream",
     "text": [
      "Males: 4562 \n",
      " Females: 5052\n"
     ]
    }
   ],
   "source": [
    "#FInds the number og male and female names\n",
    "print('Males: ' + str(sum(df_names2.Gender == 'd')),'\\n', 'Females: ' + str(sum(df_names2.Gender == 'p')))"
   ]
  },
  {
   "cell_type": "code",
   "execution_count": 11,
   "metadata": {},
   "outputs": [
    {
     "data": {
      "text/plain": [
       "website       11259\n",
       "first_name    11259\n",
       "surname        7929\n",
       "name          11259\n",
       "review        11259\n",
       "rating        11259\n",
       "rating_n      11259\n",
       "Gender        10243\n",
       "dtype: int64"
      ]
     },
     "execution_count": 11,
     "metadata": {},
     "output_type": "execute_result"
    }
   ],
   "source": [
    "df_names2.count()\n",
    "\n"
   ]
  },
  {
   "cell_type": "code",
   "execution_count": 12,
   "metadata": {},
   "outputs": [
    {
     "data": {
      "text/html": [
       "<div>\n",
       "<style scoped>\n",
       "    .dataframe tbody tr th:only-of-type {\n",
       "        vertical-align: middle;\n",
       "    }\n",
       "\n",
       "    .dataframe tbody tr th {\n",
       "        vertical-align: top;\n",
       "    }\n",
       "\n",
       "    .dataframe thead th {\n",
       "        text-align: right;\n",
       "    }\n",
       "</style>\n",
       "<table border=\"1\" class=\"dataframe\">\n",
       "  <thead>\n",
       "    <tr style=\"text-align: right;\">\n",
       "      <th></th>\n",
       "      <th>website</th>\n",
       "      <th>first_name</th>\n",
       "      <th>surname</th>\n",
       "      <th>name</th>\n",
       "      <th>review</th>\n",
       "      <th>rating</th>\n",
       "      <th>rating_n</th>\n",
       "      <th>Gender</th>\n",
       "    </tr>\n",
       "  </thead>\n",
       "  <tbody>\n",
       "    <tr>\n",
       "      <th>0</th>\n",
       "      <td>SAXO.COM</td>\n",
       "      <td>rasmus</td>\n",
       "      <td>None</td>\n",
       "      <td>Rasmus</td>\n",
       "      <td>Uproblematisk og hurtig levering.</td>\n",
       "      <td>5 stjerner: Fremragende</td>\n",
       "      <td>5</td>\n",
       "      <td>d</td>\n",
       "    </tr>\n",
       "    <tr>\n",
       "      <th>1</th>\n",
       "      <td>SAXO.COM</td>\n",
       "      <td>dan</td>\n",
       "      <td>Jensen</td>\n",
       "      <td>Dan Jensen</td>\n",
       "      <td>God service...</td>\n",
       "      <td>5 stjerner: Fremragende</td>\n",
       "      <td>5</td>\n",
       "      <td>d</td>\n",
       "    </tr>\n",
       "    <tr>\n",
       "      <th>2</th>\n",
       "      <td>SAXO.COM</td>\n",
       "      <td>dan</td>\n",
       "      <td>Jensen</td>\n",
       "      <td>Dan Jensen</td>\n",
       "      <td>God service...</td>\n",
       "      <td>5 stjerner: Fremragende</td>\n",
       "      <td>5</td>\n",
       "      <td>p</td>\n",
       "    </tr>\n",
       "    <tr>\n",
       "      <th>3</th>\n",
       "      <td>SAXO.COM</td>\n",
       "      <td>dan</td>\n",
       "      <td>Jensen</td>\n",
       "      <td>Dan Jensen</td>\n",
       "      <td>God service...</td>\n",
       "      <td>5 stjerner: Fremragende</td>\n",
       "      <td>5</td>\n",
       "      <td>u</td>\n",
       "    </tr>\n",
       "    <tr>\n",
       "      <th>4</th>\n",
       "      <td>SAXO.COM</td>\n",
       "      <td>rikke</td>\n",
       "      <td>None</td>\n",
       "      <td>Rikke</td>\n",
       "      <td>Super fint. Hurtig levering</td>\n",
       "      <td>5 stjerner: Fremragende</td>\n",
       "      <td>5</td>\n",
       "      <td>p</td>\n",
       "    </tr>\n",
       "  </tbody>\n",
       "</table>\n",
       "</div>"
      ],
      "text/plain": [
       "    website first_name surname        name                             review  \\\n",
       "0  SAXO.COM     rasmus    None      Rasmus  Uproblematisk og hurtig levering.   \n",
       "1  SAXO.COM        dan  Jensen  Dan Jensen                     God service...   \n",
       "2  SAXO.COM        dan  Jensen  Dan Jensen                     God service...   \n",
       "3  SAXO.COM        dan  Jensen  Dan Jensen                     God service...   \n",
       "4  SAXO.COM      rikke    None       Rikke        Super fint. Hurtig levering   \n",
       "\n",
       "                    rating rating_n Gender  \n",
       "0  5 stjerner: Fremragende        5      d  \n",
       "1  5 stjerner: Fremragende        5      d  \n",
       "2  5 stjerner: Fremragende        5      p  \n",
       "3  5 stjerner: Fremragende        5      u  \n",
       "4  5 stjerner: Fremragende        5      p  "
      ]
     },
     "execution_count": 12,
     "metadata": {},
     "output_type": "execute_result"
    }
   ],
   "source": [
    "df_names2.head()\n",
    "del df_names2['rating']"
   ]
  },
  {
   "cell_type": "code",
   "execution_count": null,
   "metadata": {},
   "outputs": [],
   "source": []
  }
 ],
 "metadata": {
  "kernelspec": {
   "display_name": "Python 3",
   "language": "python",
   "name": "python3"
  },
  "language_info": {
   "codemirror_mode": {
    "name": "ipython",
    "version": 3
   },
   "file_extension": ".py",
   "mimetype": "text/x-python",
   "name": "python",
   "nbconvert_exporter": "python",
   "pygments_lexer": "ipython3",
   "version": "3.6.4"
  }
 },
 "nbformat": 4,
 "nbformat_minor": 2
}
